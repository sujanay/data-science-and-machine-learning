{
  "nbformat": 4,
  "nbformat_minor": 0,
  "metadata": {
    "colab": {
      "name": "NLTK tutorial.ipynb",
      "version": "0.3.2",
      "provenance": [],
      "collapsed_sections": [],
      "toc_visible": true,
      "include_colab_link": true
    },
    "kernelspec": {
      "name": "python3",
      "display_name": "Python 3"
    }
  },
  "cells": [
    {
      "cell_type": "markdown",
      "metadata": {
        "id": "view-in-github",
        "colab_type": "text"
      },
      "source": [
        "<a href=\"https://colab.research.google.com/github/sujanay/data-science-and-machine-learning/blob/master/NLTK_tutorial.ipynb\" target=\"_parent\"><img src=\"https://colab.research.google.com/assets/colab-badge.svg\" alt=\"Open In Colab\"/></a>"
      ]
    },
    {
      "cell_type": "markdown",
      "metadata": {
        "id": "sRjHrxSNpeE9",
        "colab_type": "text"
      },
      "source": [
        "# Text Analysis with NLTK\n",
        "In this tutorial, you are going to cover the following topics:\n",
        "\n",
        "*   Text Analytics and NLP\n",
        "*   Compare Text Analytics, NLP and Text Mining\n",
        "*   Tokenization\n",
        "*   Stopwords\n",
        "*   Lexicon Normalization such as Stemming and Lemmatization\n",
        "*   POS Tagging\n",
        "*   Sentiment Analysis\n",
        "*   Text Classification\n",
        "*   Performing Sentiment Analysis using Text Classification\n",
        "\n",
        "## Compare Text Analytics, NLP and Text Mining\n",
        "Text mining also referred to as text analytics. Text mining is a process of exploring sizeable textual data and find patterns. Text Mining process the text itself, while NLP process with the underlying metadata.  *Text mining is preprocessed data for text analytics. In Text Analytics, statistical and machine learning algorithm used to classify information.*\n",
        "\n",
        "*   *Finding frequency counts of words, length of the sentence, presence/absence of specific words* is known as **text mining**.\n",
        "*   **Natural language processing** is one of the components of text mining. NLP helps* identify sentiment, finding entities in the sentence, and category of blog/article*. \n",
        "\n",
        "## 1. Tokenization\n",
        "Tokenization is the first step in text analytics. The process of breaking down a text paragraph into smaller chunks such as words or sentence is called Tokenization. Token is a single entity that is building blocks for sentence or paragraph.\n",
        "\n",
        "1.   **Word tokenization:** Word tokenizer breaks text paragraph into words.\n",
        "2.   **Sentence tokenization:** Sentence tokenizer breaks text paragraph into sentences.\n",
        "\n",
        "\n",
        "\n",
        "\n",
        "\n",
        "\n",
        "\n",
        "\n",
        "\n"
      ]
    },
    {
      "cell_type": "code",
      "metadata": {
        "id": "OAKan7-N1Q7y",
        "colab_type": "code",
        "colab": {
          "base_uri": "https://localhost:8080/",
          "height": 105
        },
        "outputId": "efb5bcd2-7049-4697-dfb0-d581c9ce91c1"
      },
      "source": [
        "# 1. Word tokenization\n",
        "import nltk\n",
        "nltk.download('punkt')\n",
        "\n",
        "from nltk.tokenize import word_tokenize\n",
        "\n",
        "\n",
        "text = \"\"\"Text mining also referred to as text analytics. Text mining is a  \n",
        "          process of exploring sizeable textual data and find patterns. Text \n",
        "          Mining process the text itself, while NLP process with the underlying  \n",
        "          metadata. Text mining is preprocessed data for text analytics. In Text \n",
        "          Analytics, statistical and machine learning algorithm used to classify \n",
        "          information.\"\"\"\n",
        "\n",
        "tokenized_word = word_tokenize(text)\n",
        "print(tokenized_word)\n",
        "\n",
        "print(len(tokenized_word))"
      ],
      "execution_count": 18,
      "outputs": [
        {
          "output_type": "stream",
          "text": [
            "[nltk_data] Downloading package punkt to /root/nltk_data...\n",
            "[nltk_data]   Unzipping tokenizers/punkt.zip.\n",
            "['Text', 'mining', 'also', 'referred', 'to', 'as', 'text', 'analytics', '.', 'Text', 'mining', 'is', 'a', 'process', 'of', 'exploring', 'sizeable', 'textual', 'data', 'and', 'find', 'patterns', '.', 'Text', 'Mining', 'process', 'the', 'text', 'itself', ',', 'while', 'NLP', 'process', 'with', 'the', 'underlying', 'metadata', '.', 'Text', 'mining', 'is', 'preprocessed', 'data', 'for', 'text', 'analytics', '.', 'In', 'Text', 'Analytics', ',', 'statistical', 'and', 'machine', 'learning', 'algorithm', 'used', 'to', 'classify', 'information', '.']\n",
            "61\n"
          ],
          "name": "stdout"
        }
      ]
    },
    {
      "cell_type": "code",
      "metadata": {
        "id": "1bigz_SrwxjD",
        "colab_type": "code",
        "colab": {
          "base_uri": "https://localhost:8080/",
          "height": 71
        },
        "outputId": "8e0397a1-c042-470b-d24f-36df8fd6b1d5"
      },
      "source": [
        "# 2. Sentence tokenization\n",
        "from nltk.tokenize import sent_tokenize\n",
        "\n",
        "tokenized_sent = sent_tokenize(text)\n",
        "print(tokenized_sent)\n",
        "\n",
        "print(len(tokenized_sent))"
      ],
      "execution_count": 19,
      "outputs": [
        {
          "output_type": "stream",
          "text": [
            "['Text mining also referred to as text analytics.', 'Text mining is a  \\n          process of exploring sizeable textual data and find patterns.', 'Text \\n          Mining process the text itself, while NLP process with the underlying  \\n          metadata.', 'Text mining is preprocessed data for text analytics.', 'In Text \\n          Analytics, statistical and machine learning algorithm used to classify \\n          information.']\n",
            "5\n"
          ],
          "name": "stdout"
        }
      ]
    },
    {
      "cell_type": "code",
      "metadata": {
        "id": "Sbt4x3NCgrkX",
        "colab_type": "code",
        "outputId": "a1431cd9-7f32-4e1d-a232-4b8525571ef4",
        "colab": {
          "base_uri": "https://localhost:8080/",
          "height": 935
        }
      },
      "source": [
        "# Tokenize by whitespace\n",
        "tokenizer = nltk.tokenize.WhitespaceTokenizer()\n",
        "tokenizer.tokenize(text)"
      ],
      "execution_count": 20,
      "outputs": [
        {
          "output_type": "execute_result",
          "data": {
            "text/plain": [
              "['Text',\n",
              " 'mining',\n",
              " 'also',\n",
              " 'referred',\n",
              " 'to',\n",
              " 'as',\n",
              " 'text',\n",
              " 'analytics.',\n",
              " 'Text',\n",
              " 'mining',\n",
              " 'is',\n",
              " 'a',\n",
              " 'process',\n",
              " 'of',\n",
              " 'exploring',\n",
              " 'sizeable',\n",
              " 'textual',\n",
              " 'data',\n",
              " 'and',\n",
              " 'find',\n",
              " 'patterns.',\n",
              " 'Text',\n",
              " 'Mining',\n",
              " 'process',\n",
              " 'the',\n",
              " 'text',\n",
              " 'itself,',\n",
              " 'while',\n",
              " 'NLP',\n",
              " 'process',\n",
              " 'with',\n",
              " 'the',\n",
              " 'underlying',\n",
              " 'metadata.',\n",
              " 'Text',\n",
              " 'mining',\n",
              " 'is',\n",
              " 'preprocessed',\n",
              " 'data',\n",
              " 'for',\n",
              " 'text',\n",
              " 'analytics.',\n",
              " 'In',\n",
              " 'Text',\n",
              " 'Analytics,',\n",
              " 'statistical',\n",
              " 'and',\n",
              " 'machine',\n",
              " 'learning',\n",
              " 'algorithm',\n",
              " 'used',\n",
              " 'to',\n",
              " 'classify',\n",
              " 'information.']"
            ]
          },
          "metadata": {
            "tags": []
          },
          "execution_count": 20
        }
      ]
    },
    {
      "cell_type": "code",
      "metadata": {
        "id": "U0TMPyXFg8MD",
        "colab_type": "code",
        "outputId": "30d24683-9416-485d-e7a2-6b46d841554e",
        "colab": {
          "base_uri": "https://localhost:8080/",
          "height": 986
        }
      },
      "source": [
        "# Treebank tokenizer\n",
        "tokenizer1 = nltk.tokenize.TreebankWordTokenizer()\n",
        "tokenizer1.tokenize(text)"
      ],
      "execution_count": 21,
      "outputs": [
        {
          "output_type": "execute_result",
          "data": {
            "text/plain": [
              "['Text',\n",
              " 'mining',\n",
              " 'also',\n",
              " 'referred',\n",
              " 'to',\n",
              " 'as',\n",
              " 'text',\n",
              " 'analytics.',\n",
              " 'Text',\n",
              " 'mining',\n",
              " 'is',\n",
              " 'a',\n",
              " 'process',\n",
              " 'of',\n",
              " 'exploring',\n",
              " 'sizeable',\n",
              " 'textual',\n",
              " 'data',\n",
              " 'and',\n",
              " 'find',\n",
              " 'patterns.',\n",
              " 'Text',\n",
              " 'Mining',\n",
              " 'process',\n",
              " 'the',\n",
              " 'text',\n",
              " 'itself',\n",
              " ',',\n",
              " 'while',\n",
              " 'NLP',\n",
              " 'process',\n",
              " 'with',\n",
              " 'the',\n",
              " 'underlying',\n",
              " 'metadata.',\n",
              " 'Text',\n",
              " 'mining',\n",
              " 'is',\n",
              " 'preprocessed',\n",
              " 'data',\n",
              " 'for',\n",
              " 'text',\n",
              " 'analytics.',\n",
              " 'In',\n",
              " 'Text',\n",
              " 'Analytics',\n",
              " ',',\n",
              " 'statistical',\n",
              " 'and',\n",
              " 'machine',\n",
              " 'learning',\n",
              " 'algorithm',\n",
              " 'used',\n",
              " 'to',\n",
              " 'classify',\n",
              " 'information',\n",
              " '.']"
            ]
          },
          "metadata": {
            "tags": []
          },
          "execution_count": 21
        }
      ]
    },
    {
      "cell_type": "code",
      "metadata": {
        "id": "NuhYIz2eg8U0",
        "colab_type": "code",
        "outputId": "e5d134c6-0b61-4e4a-eeaa-e7e072868f60",
        "colab": {
          "base_uri": "https://localhost:8080/",
          "height": 1054
        }
      },
      "source": [
        "# Word punctuation tokenizer\n",
        "tokenizer2 = nltk.tokenize.WordPunctTokenizer()\n",
        "tokenizer2.tokenize(text)"
      ],
      "execution_count": 22,
      "outputs": [
        {
          "output_type": "execute_result",
          "data": {
            "text/plain": [
              "['Text',\n",
              " 'mining',\n",
              " 'also',\n",
              " 'referred',\n",
              " 'to',\n",
              " 'as',\n",
              " 'text',\n",
              " 'analytics',\n",
              " '.',\n",
              " 'Text',\n",
              " 'mining',\n",
              " 'is',\n",
              " 'a',\n",
              " 'process',\n",
              " 'of',\n",
              " 'exploring',\n",
              " 'sizeable',\n",
              " 'textual',\n",
              " 'data',\n",
              " 'and',\n",
              " 'find',\n",
              " 'patterns',\n",
              " '.',\n",
              " 'Text',\n",
              " 'Mining',\n",
              " 'process',\n",
              " 'the',\n",
              " 'text',\n",
              " 'itself',\n",
              " ',',\n",
              " 'while',\n",
              " 'NLP',\n",
              " 'process',\n",
              " 'with',\n",
              " 'the',\n",
              " 'underlying',\n",
              " 'metadata',\n",
              " '.',\n",
              " 'Text',\n",
              " 'mining',\n",
              " 'is',\n",
              " 'preprocessed',\n",
              " 'data',\n",
              " 'for',\n",
              " 'text',\n",
              " 'analytics',\n",
              " '.',\n",
              " 'In',\n",
              " 'Text',\n",
              " 'Analytics',\n",
              " ',',\n",
              " 'statistical',\n",
              " 'and',\n",
              " 'machine',\n",
              " 'learning',\n",
              " 'algorithm',\n",
              " 'used',\n",
              " 'to',\n",
              " 'classify',\n",
              " 'information',\n",
              " '.']"
            ]
          },
          "metadata": {
            "tags": []
          },
          "execution_count": 22
        }
      ]
    },
    {
      "cell_type": "markdown",
      "metadata": {
        "id": "WUX5aZze1NSO",
        "colab_type": "text"
      },
      "source": [
        "# Frequency Distribution\n"
      ]
    },
    {
      "cell_type": "code",
      "metadata": {
        "id": "bOk5r-DQ1XW5",
        "colab_type": "code",
        "colab": {
          "base_uri": "https://localhost:8080/",
          "height": 51
        },
        "outputId": "16ec98b2-316c-48bd-f8b4-560f87888195"
      },
      "source": [
        "from nltk.probability import FreqDist\n",
        "\n",
        "fdist = FreqDist(tokenized_word)\n",
        "\n",
        "print(fdist)\n",
        "\n",
        "fdist.most_common(2)"
      ],
      "execution_count": 23,
      "outputs": [
        {
          "output_type": "stream",
          "text": [
            "<FreqDist with 40 samples and 61 outcomes>\n"
          ],
          "name": "stdout"
        },
        {
          "output_type": "execute_result",
          "data": {
            "text/plain": [
              "[('Text', 5), ('.', 5)]"
            ]
          },
          "metadata": {
            "tags": []
          },
          "execution_count": 23
        }
      ]
    },
    {
      "cell_type": "code",
      "metadata": {
        "id": "DmEGi3dS2GSD",
        "colab_type": "code",
        "colab": {
          "base_uri": "https://localhost:8080/",
          "height": 340
        },
        "outputId": "6966a4d5-814b-4596-b338-cf66f209c0d1"
      },
      "source": [
        "# Frequency distribution plot\n",
        "import matplotlib.pyplot as plt\n",
        "\n",
        "fdist.plot(30, cumulative=False)\n",
        "\n",
        "plt.show()"
      ],
      "execution_count": 24,
      "outputs": [
        {
          "output_type": "display_data",
          "data": {
            "image/png": "[encoded data removed]",
            "text/plain": [
              "<Figure size 432x288 with 1 Axes>"
            ]
          },
          "metadata": {
            "tags": []
          }
        }
      ]
    },
    {
      "cell_type": "markdown",
      "metadata": {
        "id": "DlkKYMpG3JI3",
        "colab_type": "text"
      },
      "source": [
        "# Stop words\n",
        "Stopwords considered as noise in the text. Text may contain stop words such as is, am, are, this, a, an, the, etc.\n",
        "\n",
        "In NLTK for removing stopwords, you need to create a list of stopwords and filter out your list of tokens from these words."
      ]
    },
    {
      "cell_type": "code",
      "metadata": {
        "id": "gffbfLP83z30",
        "colab_type": "code",
        "colab": {
          "base_uri": "https://localhost:8080/",
          "height": 68
        },
        "outputId": "53a890db-aa57-4649-bcc0-6c0e5dbc801f"
      },
      "source": [
        "import nltk\n",
        "\n",
        "nltk.download('stopwords')"
      ],
      "execution_count": 25,
      "outputs": [
        {
          "output_type": "stream",
          "text": [
            "[nltk_data] Downloading package stopwords to /root/nltk_data...\n",
            "[nltk_data]   Unzipping corpora/stopwords.zip.\n"
          ],
          "name": "stdout"
        },
        {
          "output_type": "execute_result",
          "data": {
            "text/plain": [
              "True"
            ]
          },
          "metadata": {
            "tags": []
          },
          "execution_count": 25
        }
      ]
    },
    {
      "cell_type": "code",
      "metadata": {
        "id": "V8-iQ0zD3Tqd",
        "colab_type": "code",
        "colab": {
          "base_uri": "https://localhost:8080/",
          "height": 71
        },
        "outputId": "f551214d-198d-4f72-c8c6-56b61f23625e"
      },
      "source": [
        "from nltk.corpus import stopwords\n",
        "\n",
        "stop_words = set(stopwords.words(\"english\"))\n",
        "\n",
        "print(len(stop_words))\n",
        "print(stop_words)"
      ],
      "execution_count": 26,
      "outputs": [
        {
          "output_type": "stream",
          "text": [
            "179\n",
            "{'her', 'these', 'as', 'having', 'off', 'have', 'more', 'couldn', 'over', 'being', 'doing', 'd', 'don', 'not', 'be', 'whom', 'ours', 'we', 'during', 'just', 'other', 'further', \"weren't\", 'mustn', 'few', 'how', 'itself', 'any', 'until', 'does', 'are', 'hasn', 'do', 'and', \"haven't\", 'both', 'their', 'all', 'is', 'into', 'while', 'between', 'than', \"aren't\", 'wouldn', 'did', 'what', 'the', 'am', 'this', 'hadn', 'hers', \"isn't\", 'yourselves', 'yours', 'when', 've', \"doesn't\", 'why', 'were', \"mightn't\", \"needn't\", 'll', 'he', 'it', 'shouldn', 'wasn', \"wasn't\", 'but', 'shan', 'out', 'you', 'theirs', 'nor', 'same', 'him', \"couldn't\", 'himself', 'has', 'them', 'there', 'each', \"mustn't\", 'i', 'against', \"you'd\", 'o', 'that', \"shan't\", 'themselves', 'herself', \"you've\", \"didn't\", 'me', 'didn', 'such', 'of', 'your', 'which', 'm', 'again', 'those', 'had', 'mightn', 'will', 'ma', 'at', 'was', 'because', 'down', 'very', 'yourself', 'or', 'been', 'in', \"don't\", 'haven', 'an', 'some', 'a', \"she's\", 'if', 'on', \"you'll\", 'only', \"shouldn't\", 'myself', 'below', 'aren', 'for', 'here', 'its', 'needn', 're', 'to', 't', 'so', \"it's\", 'his', 'through', 'who', 'about', 'doesn', 'won', 'above', \"you're\", 's', 'under', 'where', 'up', 'then', 'our', 'with', 'now', 'ain', 'once', 'ourselves', 'after', 'own', \"hasn't\", 'weren', \"that'll\", 'no', 'y', 'can', 'they', \"should've\", \"wouldn't\", 'most', 'before', 'too', \"hadn't\", \"won't\", 'isn', 'from', 'by', 'should', 'my', 'she'}\n"
          ],
          "name": "stdout"
        }
      ]
    },
    {
      "cell_type": "markdown",
      "metadata": {
        "id": "CWbDJFN64jtP",
        "colab_type": "text"
      },
      "source": [
        "## Removing Stopwords"
      ]
    },
    {
      "cell_type": "code",
      "metadata": {
        "id": "_GFSMGiY4fmj",
        "colab_type": "code",
        "colab": {
          "base_uri": "https://localhost:8080/",
          "height": 105
        },
        "outputId": "05465e2d-8c1c-4ac8-dae0-6ac3291f3623"
      },
      "source": [
        "filtered_words = []\n",
        "\n",
        "for word in tokenized_word:\n",
        "  if word not in stop_words:\n",
        "    filtered_words.append(word)\n",
        "    \n",
        "print(\"Unfiltered words:\", tokenized_word)\n",
        "print(len(tokenized_word))\n",
        "\n",
        "print(\"Filtered words:\", filtered_words)\n",
        "print(len(filtered_words))"
      ],
      "execution_count": 27,
      "outputs": [
        {
          "output_type": "stream",
          "text": [
            "Unfiltered words: ['Text', 'mining', 'also', 'referred', 'to', 'as', 'text', 'analytics', '.', 'Text', 'mining', 'is', 'a', 'process', 'of', 'exploring', 'sizeable', 'textual', 'data', 'and', 'find', 'patterns', '.', 'Text', 'Mining', 'process', 'the', 'text', 'itself', ',', 'while', 'NLP', 'process', 'with', 'the', 'underlying', 'metadata', '.', 'Text', 'mining', 'is', 'preprocessed', 'data', 'for', 'text', 'analytics', '.', 'In', 'Text', 'Analytics', ',', 'statistical', 'and', 'machine', 'learning', 'algorithm', 'used', 'to', 'classify', 'information', '.']\n",
            "61\n",
            "Filtered words: ['Text', 'mining', 'also', 'referred', 'text', 'analytics', '.', 'Text', 'mining', 'process', 'exploring', 'sizeable', 'textual', 'data', 'find', 'patterns', '.', 'Text', 'Mining', 'process', 'text', ',', 'NLP', 'process', 'underlying', 'metadata', '.', 'Text', 'mining', 'preprocessed', 'data', 'text', 'analytics', '.', 'In', 'Text', 'Analytics', ',', 'statistical', 'machine', 'learning', 'algorithm', 'used', 'classify', 'information', '.']\n",
            "46\n"
          ],
          "name": "stdout"
        }
      ]
    },
    {
      "cell_type": "markdown",
      "metadata": {
        "id": "XxIUCIZi5y6h",
        "colab_type": "text"
      },
      "source": [
        "# Lexicon Normalization\n",
        "Lexicon normalization considers another type of noise in the text. For example, connection, connected, connecting word reduce to a common word \"connect\". It reduces derivationally related forms of a word to a common root word.\n"
      ]
    },
    {
      "cell_type": "markdown",
      "metadata": {
        "id": "Byjn8d3YA9O9",
        "colab_type": "text"
      },
      "source": [
        "\n",
        "## Stemming\n",
        "Stemming is a process of linguistic normalization, which reduces words to their word root word or chops off the derivational affixes. For example, connection, connected, connecting word reduce to a common word \"connect\"."
      ]
    },
    {
      "cell_type": "code",
      "metadata": {
        "id": "HJAJNU-b6Li4",
        "colab_type": "code",
        "colab": {
          "base_uri": "https://localhost:8080/",
          "height": 105
        },
        "outputId": "03319dd6-7637-4843-fffe-79351f3a31ec"
      },
      "source": [
        "# Stemming\n",
        "from nltk.stem import PorterStemmer\n",
        "from nltk.tokenize import sent_tokenize, word_tokenize\n",
        "\n",
        "ps = PorterStemmer()\n",
        "\n",
        "stemmed_words=[]\n",
        "\n",
        "for w in filtered_words:\n",
        "    stemmed_words.append(ps.stem(w))\n",
        "\n",
        "print(\"Filtered words:\",filtered_words)\n",
        "print(len(filtered_words))\n",
        "\n",
        "print(\"Stemmed words:\",stemmed_words)\n",
        "print(len(stemmed_words))"
      ],
      "execution_count": 28,
      "outputs": [
        {
          "output_type": "stream",
          "text": [
            "Filtered words: ['Text', 'mining', 'also', 'referred', 'text', 'analytics', '.', 'Text', 'mining', 'process', 'exploring', 'sizeable', 'textual', 'data', 'find', 'patterns', '.', 'Text', 'Mining', 'process', 'text', ',', 'NLP', 'process', 'underlying', 'metadata', '.', 'Text', 'mining', 'preprocessed', 'data', 'text', 'analytics', '.', 'In', 'Text', 'Analytics', ',', 'statistical', 'machine', 'learning', 'algorithm', 'used', 'classify', 'information', '.']\n",
            "46\n",
            "Stemmed words: ['text', 'mine', 'also', 'refer', 'text', 'analyt', '.', 'text', 'mine', 'process', 'explor', 'sizeabl', 'textual', 'data', 'find', 'pattern', '.', 'text', 'mine', 'process', 'text', ',', 'nlp', 'process', 'underli', 'metadata', '.', 'text', 'mine', 'preprocess', 'data', 'text', 'analyt', '.', 'In', 'text', 'analyt', ',', 'statist', 'machin', 'learn', 'algorithm', 'use', 'classifi', 'inform', '.']\n",
            "46\n"
          ],
          "name": "stdout"
        }
      ]
    },
    {
      "cell_type": "markdown",
      "metadata": {
        "id": "hMc4OGeg94fY",
        "colab_type": "text"
      },
      "source": [
        "## Lemmatization\n",
        "Lemmatization reduces words to their base word, which is linguistically correct lemmas. It transforms root word with the use of vocabulary and morphological analysis. Lemmatization is usually more sophisticated than stemming. Stemmer works on an individual word without knowledge of the context. For example, The word \"better\" has \"good\" as its lemma. This thing will miss by stemming because it requires a dictionary look-up."
      ]
    },
    {
      "cell_type": "code",
      "metadata": {
        "id": "RJF9suh_F-7L",
        "colab_type": "code",
        "colab": {
          "base_uri": "https://localhost:8080/",
          "height": 68
        },
        "outputId": "676983a3-7461-41d8-ce1d-0f12f982e3eb"
      },
      "source": [
        "import nltk\n",
        "nltk.download('wordnet')"
      ],
      "execution_count": 29,
      "outputs": [
        {
          "output_type": "stream",
          "text": [
            "[nltk_data] Downloading package wordnet to /root/nltk_data...\n",
            "[nltk_data]   Unzipping corpora/wordnet.zip.\n"
          ],
          "name": "stdout"
        },
        {
          "output_type": "execute_result",
          "data": {
            "text/plain": [
              "True"
            ]
          },
          "metadata": {
            "tags": []
          },
          "execution_count": 29
        }
      ]
    },
    {
      "cell_type": "code",
      "metadata": {
        "id": "Qm_K_ynIBDsx",
        "colab_type": "code",
        "colab": {
          "base_uri": "https://localhost:8080/",
          "height": 51
        },
        "outputId": "7513fc65-fd06-4693-f28f-6a78cb4ce048"
      },
      "source": [
        "#Lexicon Normalization\n",
        "#performing stemming and Lemmatization\n",
        "\n",
        "from nltk.stem.wordnet import WordNetLemmatizer\n",
        "lem = WordNetLemmatizer()\n",
        "\n",
        "from nltk.stem.porter import PorterStemmer\n",
        "stem = PorterStemmer()\n",
        "\n",
        "word = \"flying\"\n",
        "\n",
        "print(\"Lemmatized Word:\",lem.lemmatize(word,\"v\"))\n",
        "print(\"Stemmed Word:\",stem.stem(word))"
      ],
      "execution_count": 30,
      "outputs": [
        {
          "output_type": "stream",
          "text": [
            "Lemmatized Word: fly\n",
            "Stemmed Word: fli\n"
          ],
          "name": "stdout"
        }
      ]
    },
    {
      "cell_type": "markdown",
      "metadata": {
        "id": "ZYx7FwCcGRP5",
        "colab_type": "text"
      },
      "source": [
        "# POS Tagging\n",
        "The primary target of Part-of-Speech(POS) tagging is to identify the grammatical group of a given word. Whether it is a NOUN, PRONOUN, ADJECTIVE, VERB, ADVERBS, etc. based on the context. POS Tagging looks for relationships within the sentence and assigns a corresponding tag to the word."
      ]
    },
    {
      "cell_type": "code",
      "metadata": {
        "id": "Q4zW9C1sHCKB",
        "colab_type": "code",
        "colab": {
          "base_uri": "https://localhost:8080/",
          "height": 85
        },
        "outputId": "9959cf05-cca3-4c43-bdef-f7816e8e6d8f"
      },
      "source": [
        "import nltk\n",
        "nltk.download('averaged_perceptron_tagger')"
      ],
      "execution_count": 31,
      "outputs": [
        {
          "output_type": "stream",
          "text": [
            "[nltk_data] Downloading package averaged_perceptron_tagger to\n",
            "[nltk_data]     /root/nltk_data...\n",
            "[nltk_data]   Unzipping taggers/averaged_perceptron_tagger.zip.\n"
          ],
          "name": "stdout"
        },
        {
          "output_type": "execute_result",
          "data": {
            "text/plain": [
              "True"
            ]
          },
          "metadata": {
            "tags": []
          },
          "execution_count": 31
        }
      ]
    },
    {
      "cell_type": "code",
      "metadata": {
        "id": "BPXJRpitGdU6",
        "colab_type": "code",
        "colab": {
          "base_uri": "https://localhost:8080/",
          "height": 71
        },
        "outputId": "66d9c40c-4d28-461b-c860-83fbb9940056"
      },
      "source": [
        "sent = \"Albert Einstein was born in Ulm, Germany in 1879.\"\n",
        "\n",
        "tokens=nltk.word_tokenize(sent)\n",
        "\n",
        "print(\"tokens:\", tokens)\n",
        "\n",
        "print(nltk.pos_tag(tokens))"
      ],
      "execution_count": 32,
      "outputs": [
        {
          "output_type": "stream",
          "text": [
            "tokens: ['Albert', 'Einstein', 'was', 'born', 'in', 'Ulm', ',', 'Germany', 'in', '1879', '.']\n",
            "[('Albert', 'NNP'), ('Einstein', 'NNP'), ('was', 'VBD'), ('born', 'VBN'), ('in', 'IN'), ('Ulm', 'NNP'), (',', ','), ('Germany', 'NNP'), ('in', 'IN'), ('1879', 'CD'), ('.', '.')]\n"
          ],
          "name": "stdout"
        }
      ]
    },
    {
      "cell_type": "markdown",
      "metadata": {
        "id": "R6orNy9qHZea",
        "colab_type": "text"
      },
      "source": [
        "# Sentiment Analysis\n",
        "Nowadays companies want to understand, what went wrong with their latest products? What users and the general public think about the latest feature? You can quantify such information with reasonable accuracy using sentiment analysis.\n",
        "\n",
        "Quantifying users content, idea, belief, and opinion is known as sentiment analysis. User's online post, blogs, tweets, feedback of product helps business people to the target audience and innovate in products and services. Sentiment analysis helps in understanding people in a better and more accurate way. It is not only limited to marketing, but it can also be utilized in politics, research, and security.\n",
        "\n",
        "Human communication just not limited to words, it is more than words. Sentiments are combination words, tone, and writing style. As a data analyst, It is more important to understand our sentiments, what it really means?\n",
        "\n",
        "**There are mainly two approaches for performing sentiment analysis:**\n",
        "**Lexicon-based**: count number of positive and negative words in given text and the larger count will be the sentiment of text.\n",
        "\n",
        "**Machine learning based approach**: Develop a classification model, which is trained using the pre-labeled dataset of positive, negative, and neutral.\n",
        "\n",
        "In this Tutorial, you will use the second approach(*Machine learning based approach*). This is how you learn sentiment and text classification with a single example."
      ]
    },
    {
      "cell_type": "markdown",
      "metadata": {
        "id": "7-EjZPARKF6R",
        "colab_type": "text"
      },
      "source": [
        "# Text Classification\n",
        "Text classification is one of the important tasks of text mining. It is a supervised approach. Identifying category or class of given text such as a blog, book, web page, news articles, and tweets. It has various application in today's computer world such as spam detection, task categorization in CRM services, categorizing products on E-retailer websites, classifying the content of websites for a search engine, sentiments of customer feedback, etc. In the next section, you will learn how you can do text classification in python."
      ]
    },
    {
      "cell_type": "code",
      "metadata": {
        "id": "9oxnx3-k57ov",
        "colab_type": "code",
        "colab": {
          "base_uri": "https://localhost:8080/",
          "height": 204
        },
        "outputId": "8f2f0c4d-5e80-4ccc-b11d-8ccab1919672"
      },
      "source": [
        "import pandas as pd\n",
        "\n",
        "train = pd.read_csv('train.tsv',delimiter='\\t',encoding='utf-8')\n",
        "train.head(5)"
      ],
      "execution_count": 33,
      "outputs": [
        {
          "output_type": "execute_result",
          "data": {
            "text/html": [
              "<div>\n",
              "<style scoped>\n",
              "    .dataframe tbody tr th:only-of-type {\n",
              "        vertical-align: middle;\n",
              "    }\n",
              "\n",
              "    .dataframe tbody tr th {\n",
              "        vertical-align: top;\n",
              "    }\n",
              "\n",
              "    .dataframe thead th {\n",
              "        text-align: right;\n",
              "    }\n",
              "</style>\n",
              "<table border=\"1\" class=\"dataframe\">\n",
              "  <thead>\n",
              "    <tr style=\"text-align: right;\">\n",
              "      <th></th>\n",
              "      <th>PhraseId</th>\n",
              "      <th>SentenceId</th>\n",
              "      <th>Phrase</th>\n",
              "      <th>Sentiment</th>\n",
              "    </tr>\n",
              "  </thead>\n",
              "  <tbody>\n",
              "    <tr>\n",
              "      <th>0</th>\n",
              "      <td>1</td>\n",
              "      <td>1</td>\n",
              "      <td>A series of escapades demonstrating the adage ...</td>\n",
              "      <td>1</td>\n",
              "    </tr>\n",
              "    <tr>\n",
              "      <th>1</th>\n",
              "      <td>2</td>\n",
              "      <td>1</td>\n",
              "      <td>A series of escapades demonstrating the adage ...</td>\n",
              "      <td>2</td>\n",
              "    </tr>\n",
              "    <tr>\n",
              "      <th>2</th>\n",
              "      <td>3</td>\n",
              "      <td>1</td>\n",
              "      <td>A series</td>\n",
              "      <td>2</td>\n",
              "    </tr>\n",
              "    <tr>\n",
              "      <th>3</th>\n",
              "      <td>4</td>\n",
              "      <td>1</td>\n",
              "      <td>A</td>\n",
              "      <td>2</td>\n",
              "    </tr>\n",
              "    <tr>\n",
              "      <th>4</th>\n",
              "      <td>5</td>\n",
              "      <td>1</td>\n",
              "      <td>series</td>\n",
              "      <td>2</td>\n",
              "    </tr>\n",
              "  </tbody>\n",
              "</table>\n",
              "</div>"
            ],
            "text/plain": [
              "   PhraseId  SentenceId                                             Phrase  \\\n",
              "0         1           1  A series of escapades demonstrating the adage ...   \n",
              "1         2           1  A series of escapades demonstrating the adage ...   \n",
              "2         3           1                                           A series   \n",
              "3         4           1                                                  A   \n",
              "4         5           1                                             series   \n",
              "\n",
              "   Sentiment  \n",
              "0          1  \n",
              "1          2  \n",
              "2          2  \n",
              "3          2  \n",
              "4          2  "
            ]
          },
          "metadata": {
            "tags": []
          },
          "execution_count": 33
        }
      ]
    },
    {
      "cell_type": "code",
      "metadata": {
        "id": "4-q28BnoBGm6",
        "colab_type": "code",
        "colab": {
          "base_uri": "https://localhost:8080/",
          "height": 283
        },
        "outputId": "fc9a02f5-739b-49c1-ff75-ab93ebdb3f5f"
      },
      "source": [
        "import matplotlib.pyplot as plt\n",
        "\n",
        "Sentiment_count=train.groupby('Sentiment').count()\n",
        "\n",
        "plt.bar(Sentiment_count.index.values, Sentiment_count['Phrase'])\n",
        "plt.xlabel('Review Sentiments')\n",
        "plt.ylabel('Number of Review')\n",
        "plt.show()"
      ],
      "execution_count": 34,
      "outputs": [
        {
          "output_type": "display_data",
          "data": {
            "image/png": "[encoded data removed]",
            "text/plain": [
              "<Figure size 432x288 with 1 Axes>"
            ]
          },
          "metadata": {
            "tags": []
          }
        }
      ]
    },
    {
      "cell_type": "code",
      "metadata": {
        "id": "2uhmMzvMBegs",
        "colab_type": "code",
        "colab": {}
      },
      "source": [
        "# Feature Generation using Bag of Words\n",
        "from sklearn.feature_extraction.text import CountVectorizer\n",
        "from nltk.tokenize import RegexpTokenizer\n",
        "\n",
        "#tokenizer to remove unwanted elements from out data like symbols and numbers\n",
        "token = RegexpTokenizer(r'[a-zA-Z0-9]+')\n",
        "\n",
        "cv = CountVectorizer(lowercase=True,stop_words='english',ngram_range = (1,1),tokenizer = token.tokenize)\n",
        "\n",
        "text_counts= cv.fit_transform(train['Phrase'])"
      ],
      "execution_count": 0,
      "outputs": []
    },
    {
      "cell_type": "code",
      "metadata": {
        "id": "1uFpuHRPCBqw",
        "colab_type": "code",
        "colab": {}
      },
      "source": [
        "# spliting data into train and test set\n",
        "from sklearn.model_selection import train_test_split\n",
        "\n",
        "X_train, X_test, y_train, y_test = train_test_split(\n",
        "    text_counts, train['Sentiment'], test_size=0.3, random_state=1)"
      ],
      "execution_count": 0,
      "outputs": []
    },
    {
      "cell_type": "code",
      "metadata": {
        "id": "9L5jhFkDCKTZ",
        "colab_type": "code",
        "colab": {
          "base_uri": "https://localhost:8080/",
          "height": 34
        },
        "outputId": "a83d6a2f-0c96-4abf-ed01-a055f11b563b"
      },
      "source": [
        "# Model Building and Evaluation\n",
        "from sklearn.naive_bayes import MultinomialNB\n",
        "\n",
        "#Import scikit-learn metrics module for accuracy calculation\n",
        "from sklearn import metrics\n",
        "\n",
        "# Model Generation Using Multinomial Naive Bayes\n",
        "clf = MultinomialNB().fit(X_train, y_train)\n",
        "\n",
        "predicted= clf.predict(X_test)\n",
        "print(\"MultinomialNB Accuracy:\",metrics.accuracy_score(y_test, predicted))"
      ],
      "execution_count": 37,
      "outputs": [
        {
          "output_type": "stream",
          "text": [
            "MultinomialNB Accuracy: 0.6049169122986885\n"
          ],
          "name": "stdout"
        }
      ]
    },
    {
      "cell_type": "code",
      "metadata": {
        "id": "dw_sk-AXCjMy",
        "colab_type": "code",
        "colab": {
          "base_uri": "https://localhost:8080/",
          "height": 34
        },
        "outputId": "0499a972-dd06-47c4-ca96-6d3b44c061e9"
      },
      "source": [
        "# F0eature Generation using TF-IDF\n",
        "from sklearn.feature_extraction.text import TfidfVectorizer\n",
        "from sklearn.model_selection import train_test_split\n",
        "from sklearn.naive_bayes import MultinomialNB\n",
        "from sklearn import metrics\n",
        "\n",
        "tf=TfidfVectorizer()\n",
        "text_tf= tf.fit_transform(train['Phrase'])\n",
        "\n",
        "X_train, X_test, y_train, y_test = train_test_split(\n",
        "    text_tf, train['Sentiment'], test_size=0.3, random_state=123)\n",
        "\n",
        "# Model Generation Using Multinomial Naive Bayes\n",
        "clf = MultinomialNB().fit(X_train, y_train)\n",
        "\n",
        "predicted= clf.predict(X_test)\n",
        "print(\"MultinomialNB Accuracy:\",metrics.accuracy_score(y_test, predicted))"
      ],
      "execution_count": 38,
      "outputs": [
        {
          "output_type": "stream",
          "text": [
            "MultinomialNB Accuracy: 0.5865265496176684\n"
          ],
          "name": "stdout"
        }
      ]
    },
    {
      "cell_type": "markdown",
      "metadata": {
        "id": "nNVSUuwnDjKD",
        "colab_type": "text"
      },
      "source": [
        "# Conclusion\n",
        "Well, we got a classification rate of 58.65% using TF-IDF features, which is not considered as good accuracy. We need to improve the accuracy by using some other preprocessing or feature engineering.\n",
        "\n",
        "**References:**\n",
        "https://www.datacamp.com/community/tutorials/text-analytics-beginners-nltk"
      ]
    }
  ]
}