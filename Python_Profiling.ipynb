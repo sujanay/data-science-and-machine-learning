{
  "nbformat": 4,
  "nbformat_minor": 0,
  "metadata": {
    "colab": {
      "name": "Python Profiling.ipynb",
      "version": "0.3.2",
      "provenance": [],
      "include_colab_link": true
    },
    "kernelspec": {
      "name": "python3",
      "display_name": "Python 3"
    }
  },
  "cells": [
    {
      "cell_type": "markdown",
      "metadata": {
        "id": "view-in-github",
        "colab_type": "text"
      },
      "source": [
        "<a href=\"https://colab.research.google.com/github/sujanay/data-science-and-machine-learning/blob/master/Python_Profiling.ipynb\" target=\"_parent\"><img src=\"https://colab.research.google.com/assets/colab-badge.svg\" alt=\"Open In Colab\"/></a>"
      ]
    },
    {
      "cell_type": "markdown",
      "metadata": {
        "id": "2lheN0QRE2jF",
        "colab_type": "text"
      },
      "source": [
        "# Profiling and optimizing Python code\n",
        "References:\n",
        "*   https://osf.io/upav8/\n",
        "*   https://www.youtube.com/watch?v=8qEnExGLZfY"
      ]
    },
    {
      "cell_type": "code",
      "metadata": {
        "id": "--k1Llq4FWNt",
        "colab_type": "code",
        "colab": {}
      },
      "source": [
        "import cProfile, pstats, io\n",
        "\n",
        "def profile(fnc):\n",
        "    \n",
        "    \"\"\"A decorator that uses cProfile to profile a function\"\"\"\n",
        "    \n",
        "    def inner(*args, **kwargs):\n",
        "        \n",
        "        pr = cProfile.Profile()\n",
        "        pr.enable()\n",
        "        retval = fnc(*args, **kwargs)\n",
        "        pr.disable()\n",
        "        s = io.StringIO()\n",
        "        sortby = 'cumulative'\n",
        "        ps = pstats.Stats(pr, stream=s).sort_stats(sortby)\n",
        "        ps.print_stats()\n",
        "        print(s.getvalue())\n",
        "        return retval\n",
        "\n",
        "    return inner"
      ],
      "execution_count": 0,
      "outputs": []
    },
    {
      "cell_type": "code",
      "metadata": {
        "id": "Jy6Agg3cFN5n",
        "colab_type": "code",
        "colab": {
          "base_uri": "https://localhost:8080/",
          "height": 442
        },
        "outputId": "29a48605-3dfb-48d5-8511-a5142bad2c16"
      },
      "source": [
        "def read_movies(src):\n",
        "    \n",
        "    with open(src) as fd:\n",
        "        return fd.read().splitlines()\n",
        "    \n",
        "    \n",
        "@profile\n",
        "def find_duplicate_movies(src='movies.txt'):\n",
        "    \n",
        "    movies = read_movies(src)\n",
        "    movies = [movie.lower() for movie in movies]\n",
        "    movies.sort()\n",
        "    duplicates = [movie1 for movie1, movie2 in zip(movies[:-1], movies[1:]) if movie1 == movie2]\n",
        "    return duplicates\n",
        "\n",
        "\n",
        "find_duplicate_movies()"
      ],
      "execution_count": 5,
      "outputs": [
        {
          "output_type": "stream",
          "text": [
            "         4203 function calls in 0.029 seconds\n",
            "\n",
            "   Ordered by: cumulative time\n",
            "\n",
            "   ncalls  tottime  percall  cumtime  percall filename:lineno(function)\n",
            "        1    0.001    0.001    0.029    0.029 <ipython-input-5-6f681cb82e73>:7(find_duplicate_movies)\n",
            "        1    0.000    0.000    0.017    0.017 <ipython-input-5-6f681cb82e73>:1(read_movies)\n",
            "        1    0.001    0.001    0.010    0.010 <ipython-input-5-6f681cb82e73>:11(<listcomp>)\n",
            "     4188    0.009    0.000    0.009    0.000 {method 'lower' of 'str' objects}\n",
            "        1    0.005    0.005    0.009    0.009 {method 'read' of '_io.TextIOWrapper' objects}\n",
            "        1    0.006    0.006    0.006    0.006 {method 'splitlines' of 'str' objects}\n",
            "        1    0.000    0.000    0.004    0.004 /usr/lib/python3.6/codecs.py:318(decode)\n",
            "        1    0.004    0.004    0.004    0.004 {built-in method _codecs.utf_8_decode}\n",
            "        1    0.001    0.001    0.001    0.001 {built-in method io.open}\n",
            "        1    0.000    0.000    0.000    0.000 <ipython-input-5-6f681cb82e73>:13(<listcomp>)\n",
            "        1    0.000    0.000    0.000    0.000 {method 'sort' of 'list' objects}\n",
            "        1    0.000    0.000    0.000    0.000 /usr/lib/python3.6/_bootlocale.py:23(getpreferredencoding)\n",
            "        1    0.000    0.000    0.000    0.000 {built-in method _locale.nl_langinfo}\n",
            "        1    0.000    0.000    0.000    0.000 /usr/lib/python3.6/codecs.py:308(__init__)\n",
            "        1    0.000    0.000    0.000    0.000 /usr/lib/python3.6/codecs.py:259(__init__)\n",
            "        1    0.000    0.000    0.000    0.000 {method 'disable' of '_lsprof.Profiler' objects}\n",
            "\n",
            "\n",
            "\n"
          ],
          "name": "stdout"
        },
        {
          "output_type": "execute_result",
          "data": {
            "text/plain": [
              "[]"
            ]
          },
          "metadata": {
            "tags": []
          },
          "execution_count": 5
        }
      ]
    },
    {
      "cell_type": "code",
      "metadata": {
        "id": "EDEbXat4FT3v",
        "colab_type": "code",
        "colab": {}
      },
      "source": [
        ""
      ],
      "execution_count": 0,
      "outputs": []
    }
  ]
}